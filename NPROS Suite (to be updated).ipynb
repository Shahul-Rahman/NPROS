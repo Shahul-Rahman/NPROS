{
 "cells": [
  {
   "cell_type": "code",
   "execution_count": 60,
   "metadata": {},
   "outputs": [],
   "source": [
    "import numpy as np\n",
    "import random\n",
    "import threading\n",
    "import time\n",
    "import math, statistics"
   ]
  },
  {
   "cell_type": "markdown",
   "metadata": {},
   "source": [
    "#### This notebook provides the python code for the PROS (https://www.mdpi.com/2076-3417/11/11/5053) algorithm.\n",
    "### The NPROS code will be soon updated here."
   ]
  },
  {
   "cell_type": "markdown",
   "metadata": {},
   "source": [
    "# A 2D and 50D Benchmark Function for Sample"
   ]
  },
  {
   "cell_type": "markdown",
   "metadata": {},
   "source": [
    "How To Run:\n",
    "Run any one of the benchmark function first. \n",
    "And then run the required cells for the algorithm to be tried out.\n",
    "\n",
    "The code of the benchmark functions were taken from: https://github.com/nathanrooy/landscapes/blob/master/landscapes/single_objective.py"
   ]
  },
  {
   "cell_type": "code",
   "execution_count": 61,
   "metadata": {
    "code_folding": [
     0
    ]
   },
   "outputs": [],
   "source": [
    "def f(x): #F1Ackley \n",
    "    x,y = x[0],x[1]\n",
    "    '''\n",
    "    Ackley Function\n",
    "    wikipedia: https://en.wikipedia.org/wiki/Ackley_function\n",
    "    global minium at f(x=0, y=0) = 0\n",
    "    bounds: -35<=x,y<=35\n",
    "    \n",
    "    '''\n",
    "    return (-20 * np.exp(-0.02 * np.sqrt(0.5 * (x*x + y*y))) -\n",
    "            np.exp(0.5 * (np.cos(2.0*np.pi*x) + np.cos(2*np.pi*y))) + np.e + 20) #Ackley\n",
    "mrnge = [-35,35]\n",
    "optimum = 0 #Well known optimum value\n",
    "D=2 #Dimesnion\n",
    "episodes = 1000"
   ]
  },
  {
   "cell_type": "code",
   "execution_count": 52,
   "metadata": {
    "code_folding": [
     0
    ]
   },
   "outputs": [],
   "source": [
    "def f(xy): #F5griewank\n",
    "    '''Griwank Function\n",
    "    Bounds: x_i in [-600, 600] for all i=1,...,d\n",
    "    Global minimum: f(x)=0 at x=(0,...,0)\n",
    "\n",
    "    '''\n",
    "    a, b, = 0, 1\n",
    "    for i, v in enumerate(xy):\n",
    "        a += v**2 / 4000.0\n",
    "        b *= np.cos(v/np.sqrt(i+1))\n",
    "    return a - b + 1\n",
    "mrnge = [-100,100]\n",
    "optimum = 0\n",
    "D=50\n",
    "episodes = 475000"
   ]
  },
  {
   "cell_type": "markdown",
   "metadata": {},
   "source": [
    "## PROS (The original Algorithm)\n",
    "\n",
    "Source: https://www.mdpi.com/2076-3417/11/11/5053"
   ]
  },
  {
   "cell_type": "code",
   "execution_count": 59,
   "metadata": {},
   "outputs": [
    {
     "name": "stdout",
     "output_type": "stream",
     "text": [
      "0.22272358429961514\n"
     ]
    }
   ],
   "source": [
    "#PROS\n",
    "x = np.random.uniform(mrnge[0],mrnge[1], D)\n",
    "curr_best_estimate = f(x)\n",
    "for i in range (episodes):\n",
    "    t = np.random.randint(D)\n",
    "    xn = np.array(x)\n",
    "    xn[t] = np.random.uniform(mrnge[0],mrnge[1])\n",
    "    if(f(xn) < curr_best_estimate):\n",
    "        x = xn\n",
    "        curr_best_estimate = f(x)\n",
    "print(f(x))"
   ]
  },
  {
   "cell_type": "markdown",
   "metadata": {},
   "source": [
    "### NPROS Suite of Algorithm Starts"
   ]
  },
  {
   "cell_type": "code",
   "execution_count": 11,
   "metadata": {},
   "outputs": [],
   "source": [
    "#To be updated here"
   ]
  }
 ],
 "metadata": {
  "kernelspec": {
   "display_name": "Python 3",
   "language": "python",
   "name": "python3"
  },
  "language_info": {
   "codemirror_mode": {
    "name": "ipython",
    "version": 3
   },
   "file_extension": ".py",
   "mimetype": "text/x-python",
   "name": "python",
   "nbconvert_exporter": "python",
   "pygments_lexer": "ipython3",
   "version": "3.7.3"
  }
 },
 "nbformat": 4,
 "nbformat_minor": 2
}
